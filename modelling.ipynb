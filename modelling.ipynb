{
 "cells": [
  {
   "cell_type": "code",
   "execution_count": 128,
   "metadata": {},
   "outputs": [],
   "source": [
    "import pandas as pd\n",
    "import numpy as np"
   ]
  },
  {
   "cell_type": "code",
   "execution_count": 129,
   "metadata": {},
   "outputs": [],
   "source": [
    "df = pd.read_csv('telco.csv')"
   ]
  },
  {
   "cell_type": "markdown",
   "metadata": {},
   "source": [
    "### Categorizing Variables, Filling Missing and Binning where required\n",
    "\n",
    "- Removed the variables that are not to be used."
   ]
  },
  {
   "cell_type": "code",
   "execution_count": 130,
   "metadata": {},
   "outputs": [],
   "source": [
    "target = 'Churn Label' # variables target \n",
    "\n",
    "# Feature Categorization for encoding and feature selection --------------------------------------------------------------------------------------------------------------------\n",
    "\n",
    "var_not_used = ['Customer ID','Country','State','Latitude','Longitude','Quarter','Customer Status','Churn Score','CLTV','Churn Category','Churn Reason']\n",
    "\n",
    "features = [col_name for col_name in df.columns if col_name not in [target] + var_not_used]\n",
    "\n",
    "numerical_features = df[features].select_dtypes(include=np.number).columns.to_list()\n",
    "categorical_features = df[features].select_dtypes(exclude=np.number).columns.to_list()\n",
    "\n",
    "#Boolean variables\n",
    "ordinal = ['Referred a Friend','Phone Service','Multiple Lines','Internet Service','Online Security','Online Backup','Device Protection Plan','Premium Tech Support','Streaming TV','Streaming Movies','Streaming Music','Unlimited Data']\n",
    "\n",
    "#Nominal Variables - categories that dont have a certain order to them\n",
    "nominal = ['Gender', 'Under 30', 'Senior Citizen','Married','Dependents','Offer', 'Internet Type','Contract','Paperless Billing','Payment Method']"
   ]
  },
  {
   "cell_type": "code",
   "execution_count": 131,
   "metadata": {},
   "outputs": [],
   "source": [
    "# Before we do prepreocessing using encoding pipelines filling in missing values, encoding and binning the variables where required\n",
    "df[['Churn Category', 'Churn Reason']] = df[['Churn Category', 'Churn Reason']].fillna('not churned')\n",
    "\n",
    "# Bin values for Tenure\n",
    "bins = range(0,max(df['Tenure in Months'])+1,12)\n",
    "df['Tenure in Months'] = pd.cut(df['Tenure in Months'],bins, labels=range(1,len(list(bins)),))\n",
    "\n",
    "\n",
    "# Zipcode - needs encoding (as catgoric) - countencoding being done due to high cardinality\n",
    "df['Zip Code'] = df['Zip Code'].astype(str)\n",
    "count_map = df['Zip Code'].value_counts().to_dict()\n",
    "df['Zip Code'] = df['Zip Code'].map(count_map)\n"
   ]
  },
  {
   "cell_type": "markdown",
   "metadata": {},
   "source": [
    "### Preprocesing\n",
    "\n",
    "- Created preprocessing pipeline using makepipeline of sklearn and encoders\n",
    "- ordinal pipeline: Creates ordinal encoding and then scales the encoded values to be in range 0 to 1. we are encoding the variables which are binary valued with this method\n",
    "- nominal pipeline: One-Hot encoding the nominal variables and dropping the first column to avoid multicolinearity\n",
    "- numeric_pipeline : this pipeline applies a power transformation to numerical features using the Yeo-Johnson method and then scales the transformed features to a specified range. This preprocessing pipeline is useful for preparing numerical features for machine learning algorithms, especially those sensitive to the distribution of features."
   ]
  },
  {
   "cell_type": "code",
   "execution_count": 132,
   "metadata": {},
   "outputs": [],
   "source": [
    "# Creating Encoding pipelines for different types of variables\n",
    "from sklearn.pipeline import Pipeline, make_pipeline \n",
    "from sklearn.preprocessing import OneHotEncoder, OrdinalEncoder, FunctionTransformer, MinMaxScaler, PowerTransformer, KBinsDiscretizer, StandardScaler\n",
    "from sklearn.compose import ColumnTransformer\n",
    "\n",
    "\n",
    "ordinal_pipeline = make_pipeline(OrdinalEncoder(categories=[['Yes','No']]*len(ordinal)), MinMaxScaler())\n",
    "nominal_pipeline = make_pipeline(OneHotEncoder(drop='first'))\n",
    "numeric_pipeline = make_pipeline(PowerTransformer('yeo-johnson'), MinMaxScaler())\n",
    "\n",
    "\n",
    "preprocessing_pipeline = ColumnTransformer(transformers=[\n",
    "    ('ordinal_pipeline',ordinal_pipeline,ordinal),\n",
    "    ('nominal_pipeline',nominal_pipeline,nominal),\n",
    "    ('numeric_pipeline',numeric_pipeline,numerical_features)\n",
    "])\n"
   ]
  },
  {
   "cell_type": "code",
   "execution_count": 133,
   "metadata": {},
   "outputs": [],
   "source": [
    "# Splitting dataset\n",
    "y = df[target].replace({'Yes':1,'No':0})\n",
    "X = df[features]\n",
    "\n",
    "from sklearn.model_selection import train_test_split, cross_validate\n",
    "\n",
    "X_train, X_test, y_train, y_test = train_test_split(X, y, test_size=0.2, shuffle=True, random_state= 201, stratify=y)"
   ]
  },
  {
   "cell_type": "code",
   "execution_count": 137,
   "metadata": {},
   "outputs": [],
   "source": [
    "# X_train['Tenure in Months']"
   ]
  },
  {
   "cell_type": "code",
   "execution_count": 135,
   "metadata": {},
   "outputs": [],
   "source": [
    "from sklearn.ensemble import RandomForestClassifier, StackingClassifier, VotingClassifier\n",
    "from xgboost import XGBClassifier\n",
    "from sklearn.neighbors import KNeighborsClassifier\n",
    "from catboost import CatBoostClassifier"
   ]
  },
  {
   "cell_type": "code",
   "execution_count": 152,
   "metadata": {},
   "outputs": [],
   "source": [
    "#First checking baseline models for accuracy comparision and then we will tune hyperparameters later\n",
    "\n",
    "models= {\n",
    "    'RF':RandomForestClassifier(random_state=201),\n",
    "    'XGB': XGBClassifier(),\n",
    "    'KNN':KNeighborsClassifier(),\n",
    "    'CatBoost': CatBoostClassifier(verbose=0, random_seed=201)\n",
    "    }\n",
    "\n",
    "result = []\n",
    "\n",
    "for name,model in models.items():\n",
    "    final_pipeline = make_pipeline(preprocessing_pipeline,model)\n",
    "    cv = cross_validate(final_pipeline,X_train,y_train, cv = 5, return_train_score=True, scoring='roc_auc')\n",
    "    result.append(pd.DataFrame(cv).mean().to_frame().set_axis([name],axis = 1))"
   ]
  },
  {
   "cell_type": "code",
   "execution_count": 153,
   "metadata": {},
   "outputs": [
    {
     "data": {
      "text/html": [
       "<div>\n",
       "<style scoped>\n",
       "    .dataframe tbody tr th:only-of-type {\n",
       "        vertical-align: middle;\n",
       "    }\n",
       "\n",
       "    .dataframe tbody tr th {\n",
       "        vertical-align: top;\n",
       "    }\n",
       "\n",
       "    .dataframe thead th {\n",
       "        text-align: right;\n",
       "    }\n",
       "</style>\n",
       "<table border=\"1\" class=\"dataframe\">\n",
       "  <thead>\n",
       "    <tr style=\"text-align: right;\">\n",
       "      <th></th>\n",
       "      <th>RF</th>\n",
       "      <th>XGB</th>\n",
       "      <th>KNN</th>\n",
       "      <th>CatBoost</th>\n",
       "    </tr>\n",
       "  </thead>\n",
       "  <tbody>\n",
       "    <tr>\n",
       "      <th>fit_time</th>\n",
       "      <td>0.337415</td>\n",
       "      <td>0.147186</td>\n",
       "      <td>0.051482</td>\n",
       "      <td>2.042416</td>\n",
       "    </tr>\n",
       "    <tr>\n",
       "      <th>score_time</th>\n",
       "      <td>0.017121</td>\n",
       "      <td>0.008851</td>\n",
       "      <td>0.017198</td>\n",
       "      <td>0.015556</td>\n",
       "    </tr>\n",
       "    <tr>\n",
       "      <th>test_score</th>\n",
       "      <td>0.985777</td>\n",
       "      <td>0.992399</td>\n",
       "      <td>0.895582</td>\n",
       "      <td>0.993611</td>\n",
       "    </tr>\n",
       "    <tr>\n",
       "      <th>train_score</th>\n",
       "      <td>1.000000</td>\n",
       "      <td>1.000000</td>\n",
       "      <td>0.959247</td>\n",
       "      <td>0.999899</td>\n",
       "    </tr>\n",
       "  </tbody>\n",
       "</table>\n",
       "</div>"
      ],
      "text/plain": [
       "                   RF       XGB       KNN  CatBoost\n",
       "fit_time     0.337415  0.147186  0.051482  2.042416\n",
       "score_time   0.017121  0.008851  0.017198  0.015556\n",
       "test_score   0.985777  0.992399  0.895582  0.993611\n",
       "train_score  1.000000  1.000000  0.959247  0.999899"
      ]
     },
     "execution_count": 153,
     "metadata": {},
     "output_type": "execute_result"
    }
   ],
   "source": [
    "score_result = pd.concat(result,axis=1)\n",
    "score_result"
   ]
  },
  {
   "cell_type": "markdown",
   "metadata": {},
   "source": [
    "- Training and Test Scores are closer for CatBoost and train score not being 1 suggest lesser chances of overfitting. \n",
    "- CatBoost is better performing than KNN in this case as well, by a degree not achievable by hyperparameter tuning\n",
    "- So we choose CatBoost here and plot our model evaluators for the same"
   ]
  },
  {
   "cell_type": "code",
   "execution_count": 156,
   "metadata": {},
   "outputs": [
    {
     "data": {
      "text/html": [
       "<style>#sk-container-id-1 {color: black;background-color: white;}#sk-container-id-1 pre{padding: 0;}#sk-container-id-1 div.sk-toggleable {background-color: white;}#sk-container-id-1 label.sk-toggleable__label {cursor: pointer;display: block;width: 100%;margin-bottom: 0;padding: 0.3em;box-sizing: border-box;text-align: center;}#sk-container-id-1 label.sk-toggleable__label-arrow:before {content: \"▸\";float: left;margin-right: 0.25em;color: #696969;}#sk-container-id-1 label.sk-toggleable__label-arrow:hover:before {color: black;}#sk-container-id-1 div.sk-estimator:hover label.sk-toggleable__label-arrow:before {color: black;}#sk-container-id-1 div.sk-toggleable__content {max-height: 0;max-width: 0;overflow: hidden;text-align: left;background-color: #f0f8ff;}#sk-container-id-1 div.sk-toggleable__content pre {margin: 0.2em;color: black;border-radius: 0.25em;background-color: #f0f8ff;}#sk-container-id-1 input.sk-toggleable__control:checked~div.sk-toggleable__content {max-height: 200px;max-width: 100%;overflow: auto;}#sk-container-id-1 input.sk-toggleable__control:checked~label.sk-toggleable__label-arrow:before {content: \"▾\";}#sk-container-id-1 div.sk-estimator input.sk-toggleable__control:checked~label.sk-toggleable__label {background-color: #d4ebff;}#sk-container-id-1 div.sk-label input.sk-toggleable__control:checked~label.sk-toggleable__label {background-color: #d4ebff;}#sk-container-id-1 input.sk-hidden--visually {border: 0;clip: rect(1px 1px 1px 1px);clip: rect(1px, 1px, 1px, 1px);height: 1px;margin: -1px;overflow: hidden;padding: 0;position: absolute;width: 1px;}#sk-container-id-1 div.sk-estimator {font-family: monospace;background-color: #f0f8ff;border: 1px dotted black;border-radius: 0.25em;box-sizing: border-box;margin-bottom: 0.5em;}#sk-container-id-1 div.sk-estimator:hover {background-color: #d4ebff;}#sk-container-id-1 div.sk-parallel-item::after {content: \"\";width: 100%;border-bottom: 1px solid gray;flex-grow: 1;}#sk-container-id-1 div.sk-label:hover label.sk-toggleable__label {background-color: #d4ebff;}#sk-container-id-1 div.sk-serial::before {content: \"\";position: absolute;border-left: 1px solid gray;box-sizing: border-box;top: 0;bottom: 0;left: 50%;z-index: 0;}#sk-container-id-1 div.sk-serial {display: flex;flex-direction: column;align-items: center;background-color: white;padding-right: 0.2em;padding-left: 0.2em;position: relative;}#sk-container-id-1 div.sk-item {position: relative;z-index: 1;}#sk-container-id-1 div.sk-parallel {display: flex;align-items: stretch;justify-content: center;background-color: white;position: relative;}#sk-container-id-1 div.sk-item::before, #sk-container-id-1 div.sk-parallel-item::before {content: \"\";position: absolute;border-left: 1px solid gray;box-sizing: border-box;top: 0;bottom: 0;left: 50%;z-index: -1;}#sk-container-id-1 div.sk-parallel-item {display: flex;flex-direction: column;z-index: 1;position: relative;background-color: white;}#sk-container-id-1 div.sk-parallel-item:first-child::after {align-self: flex-end;width: 50%;}#sk-container-id-1 div.sk-parallel-item:last-child::after {align-self: flex-start;width: 50%;}#sk-container-id-1 div.sk-parallel-item:only-child::after {width: 0;}#sk-container-id-1 div.sk-dashed-wrapped {border: 1px dashed gray;margin: 0 0.4em 0.5em 0.4em;box-sizing: border-box;padding-bottom: 0.4em;background-color: white;}#sk-container-id-1 div.sk-label label {font-family: monospace;font-weight: bold;display: inline-block;line-height: 1.2em;}#sk-container-id-1 div.sk-label-container {text-align: center;}#sk-container-id-1 div.sk-container {/* jupyter's `normalize.less` sets `[hidden] { display: none; }` but bootstrap.min.css set `[hidden] { display: none !important; }` so we also need the `!important` here to be able to override the default hidden behavior on the sphinx rendered scikit-learn.org. See: https://github.com/scikit-learn/scikit-learn/issues/21755 */display: inline-block !important;position: relative;}#sk-container-id-1 div.sk-text-repr-fallback {display: none;}</style><div id=\"sk-container-id-1\" class=\"sk-top-container\"><div class=\"sk-text-repr-fallback\"><pre>Pipeline(steps=[(&#x27;columntransformer&#x27;,\n",
       "                 ColumnTransformer(transformers=[(&#x27;ordinal_pipeline&#x27;,\n",
       "                                                  Pipeline(steps=[(&#x27;ordinalencoder&#x27;,\n",
       "                                                                   OrdinalEncoder(categories=[[&#x27;Yes&#x27;,\n",
       "                                                                                               &#x27;No&#x27;],\n",
       "                                                                                              [&#x27;Yes&#x27;,\n",
       "                                                                                               &#x27;No&#x27;],\n",
       "                                                                                              [&#x27;Yes&#x27;,\n",
       "                                                                                               &#x27;No&#x27;],\n",
       "                                                                                              [&#x27;Yes&#x27;,\n",
       "                                                                                               &#x27;No&#x27;],\n",
       "                                                                                              [&#x27;Yes&#x27;,\n",
       "                                                                                               &#x27;No&#x27;],\n",
       "                                                                                              [&#x27;Yes&#x27;,\n",
       "                                                                                               &#x27;No&#x27;],\n",
       "                                                                                              [&#x27;Yes&#x27;,\n",
       "                                                                                               &#x27;No&#x27;],\n",
       "                                                                                              [&#x27;Yes&#x27;,\n",
       "                                                                                               &#x27;No&#x27;],\n",
       "                                                                                              [&#x27;Yes&#x27;,\n",
       "                                                                                               &#x27;No&#x27;],\n",
       "                                                                                              [&#x27;Yes&#x27;,\n",
       "                                                                                               &#x27;No&#x27;],\n",
       "                                                                                              [&#x27;Yes&#x27;,\n",
       "                                                                                               &#x27;No&#x27;],\n",
       "                                                                                              [&#x27;Yes&#x27;,\n",
       "                                                                                               &#x27;No&#x27;]])),\n",
       "                                                                  (&#x27;minmaxscaler&#x27;,\n",
       "                                                                   MinMaxScaler())]),\n",
       "                                                  [&#x27;Refer...\n",
       "                                                   &#x27;Number of Dependents&#x27;,\n",
       "                                                   &#x27;Zip Code&#x27;, &#x27;Population&#x27;,\n",
       "                                                   &#x27;Number of Referrals&#x27;,\n",
       "                                                   &#x27;Tenure in Months&#x27;,\n",
       "                                                   &#x27;Avg Monthly Long Distance &#x27;\n",
       "                                                   &#x27;Charges&#x27;,\n",
       "                                                   &#x27;Avg Monthly GB Download&#x27;,\n",
       "                                                   &#x27;Monthly Charge&#x27;,\n",
       "                                                   &#x27;Total Charges&#x27;,\n",
       "                                                   &#x27;Total Refunds&#x27;,\n",
       "                                                   &#x27;Total Extra Data Charges&#x27;,\n",
       "                                                   &#x27;Total Long Distance &#x27;\n",
       "                                                   &#x27;Charges&#x27;,\n",
       "                                                   &#x27;Total Revenue&#x27;,\n",
       "                                                   &#x27;Satisfaction Score&#x27;])])),\n",
       "                (&#x27;catboostclassifier&#x27;,\n",
       "                 &lt;catboost.core.CatBoostClassifier object at 0x14d149190&gt;)])</pre><b>In a Jupyter environment, please rerun this cell to show the HTML representation or trust the notebook. <br />On GitHub, the HTML representation is unable to render, please try loading this page with nbviewer.org.</b></div><div class=\"sk-container\" hidden><div class=\"sk-item sk-dashed-wrapped\"><div class=\"sk-label-container\"><div class=\"sk-label sk-toggleable\"><input class=\"sk-toggleable__control sk-hidden--visually\" id=\"sk-estimator-id-1\" type=\"checkbox\" ><label for=\"sk-estimator-id-1\" class=\"sk-toggleable__label sk-toggleable__label-arrow\">Pipeline</label><div class=\"sk-toggleable__content\"><pre>Pipeline(steps=[(&#x27;columntransformer&#x27;,\n",
       "                 ColumnTransformer(transformers=[(&#x27;ordinal_pipeline&#x27;,\n",
       "                                                  Pipeline(steps=[(&#x27;ordinalencoder&#x27;,\n",
       "                                                                   OrdinalEncoder(categories=[[&#x27;Yes&#x27;,\n",
       "                                                                                               &#x27;No&#x27;],\n",
       "                                                                                              [&#x27;Yes&#x27;,\n",
       "                                                                                               &#x27;No&#x27;],\n",
       "                                                                                              [&#x27;Yes&#x27;,\n",
       "                                                                                               &#x27;No&#x27;],\n",
       "                                                                                              [&#x27;Yes&#x27;,\n",
       "                                                                                               &#x27;No&#x27;],\n",
       "                                                                                              [&#x27;Yes&#x27;,\n",
       "                                                                                               &#x27;No&#x27;],\n",
       "                                                                                              [&#x27;Yes&#x27;,\n",
       "                                                                                               &#x27;No&#x27;],\n",
       "                                                                                              [&#x27;Yes&#x27;,\n",
       "                                                                                               &#x27;No&#x27;],\n",
       "                                                                                              [&#x27;Yes&#x27;,\n",
       "                                                                                               &#x27;No&#x27;],\n",
       "                                                                                              [&#x27;Yes&#x27;,\n",
       "                                                                                               &#x27;No&#x27;],\n",
       "                                                                                              [&#x27;Yes&#x27;,\n",
       "                                                                                               &#x27;No&#x27;],\n",
       "                                                                                              [&#x27;Yes&#x27;,\n",
       "                                                                                               &#x27;No&#x27;],\n",
       "                                                                                              [&#x27;Yes&#x27;,\n",
       "                                                                                               &#x27;No&#x27;]])),\n",
       "                                                                  (&#x27;minmaxscaler&#x27;,\n",
       "                                                                   MinMaxScaler())]),\n",
       "                                                  [&#x27;Refer...\n",
       "                                                   &#x27;Number of Dependents&#x27;,\n",
       "                                                   &#x27;Zip Code&#x27;, &#x27;Population&#x27;,\n",
       "                                                   &#x27;Number of Referrals&#x27;,\n",
       "                                                   &#x27;Tenure in Months&#x27;,\n",
       "                                                   &#x27;Avg Monthly Long Distance &#x27;\n",
       "                                                   &#x27;Charges&#x27;,\n",
       "                                                   &#x27;Avg Monthly GB Download&#x27;,\n",
       "                                                   &#x27;Monthly Charge&#x27;,\n",
       "                                                   &#x27;Total Charges&#x27;,\n",
       "                                                   &#x27;Total Refunds&#x27;,\n",
       "                                                   &#x27;Total Extra Data Charges&#x27;,\n",
       "                                                   &#x27;Total Long Distance &#x27;\n",
       "                                                   &#x27;Charges&#x27;,\n",
       "                                                   &#x27;Total Revenue&#x27;,\n",
       "                                                   &#x27;Satisfaction Score&#x27;])])),\n",
       "                (&#x27;catboostclassifier&#x27;,\n",
       "                 &lt;catboost.core.CatBoostClassifier object at 0x14d149190&gt;)])</pre></div></div></div><div class=\"sk-serial\"><div class=\"sk-item sk-dashed-wrapped\"><div class=\"sk-label-container\"><div class=\"sk-label sk-toggleable\"><input class=\"sk-toggleable__control sk-hidden--visually\" id=\"sk-estimator-id-2\" type=\"checkbox\" ><label for=\"sk-estimator-id-2\" class=\"sk-toggleable__label sk-toggleable__label-arrow\">columntransformer: ColumnTransformer</label><div class=\"sk-toggleable__content\"><pre>ColumnTransformer(transformers=[(&#x27;ordinal_pipeline&#x27;,\n",
       "                                 Pipeline(steps=[(&#x27;ordinalencoder&#x27;,\n",
       "                                                  OrdinalEncoder(categories=[[&#x27;Yes&#x27;,\n",
       "                                                                              &#x27;No&#x27;],\n",
       "                                                                             [&#x27;Yes&#x27;,\n",
       "                                                                              &#x27;No&#x27;],\n",
       "                                                                             [&#x27;Yes&#x27;,\n",
       "                                                                              &#x27;No&#x27;],\n",
       "                                                                             [&#x27;Yes&#x27;,\n",
       "                                                                              &#x27;No&#x27;],\n",
       "                                                                             [&#x27;Yes&#x27;,\n",
       "                                                                              &#x27;No&#x27;],\n",
       "                                                                             [&#x27;Yes&#x27;,\n",
       "                                                                              &#x27;No&#x27;],\n",
       "                                                                             [&#x27;Yes&#x27;,\n",
       "                                                                              &#x27;No&#x27;],\n",
       "                                                                             [&#x27;Yes&#x27;,\n",
       "                                                                              &#x27;No&#x27;],\n",
       "                                                                             [&#x27;Yes&#x27;,\n",
       "                                                                              &#x27;No&#x27;],\n",
       "                                                                             [&#x27;Yes&#x27;,\n",
       "                                                                              &#x27;No&#x27;],\n",
       "                                                                             [&#x27;Yes&#x27;,\n",
       "                                                                              &#x27;No&#x27;],\n",
       "                                                                             [&#x27;Yes&#x27;,\n",
       "                                                                              &#x27;No&#x27;]])),\n",
       "                                                 (&#x27;minmaxscaler&#x27;,\n",
       "                                                  MinMaxScaler())]),\n",
       "                                 [&#x27;Referred a Friend&#x27;, &#x27;Phone Service&#x27;,\n",
       "                                  &#x27;Multiple L...\n",
       "                                 Pipeline(steps=[(&#x27;powertransformer&#x27;,\n",
       "                                                  PowerTransformer()),\n",
       "                                                 (&#x27;minmaxscaler&#x27;,\n",
       "                                                  MinMaxScaler())]),\n",
       "                                 [&#x27;Age&#x27;, &#x27;Number of Dependents&#x27;, &#x27;Zip Code&#x27;,\n",
       "                                  &#x27;Population&#x27;, &#x27;Number of Referrals&#x27;,\n",
       "                                  &#x27;Tenure in Months&#x27;,\n",
       "                                  &#x27;Avg Monthly Long Distance Charges&#x27;,\n",
       "                                  &#x27;Avg Monthly GB Download&#x27;, &#x27;Monthly Charge&#x27;,\n",
       "                                  &#x27;Total Charges&#x27;, &#x27;Total Refunds&#x27;,\n",
       "                                  &#x27;Total Extra Data Charges&#x27;,\n",
       "                                  &#x27;Total Long Distance Charges&#x27;,\n",
       "                                  &#x27;Total Revenue&#x27;, &#x27;Satisfaction Score&#x27;])])</pre></div></div></div><div class=\"sk-parallel\"><div class=\"sk-parallel-item\"><div class=\"sk-item\"><div class=\"sk-label-container\"><div class=\"sk-label sk-toggleable\"><input class=\"sk-toggleable__control sk-hidden--visually\" id=\"sk-estimator-id-3\" type=\"checkbox\" ><label for=\"sk-estimator-id-3\" class=\"sk-toggleable__label sk-toggleable__label-arrow\">ordinal_pipeline</label><div class=\"sk-toggleable__content\"><pre>[&#x27;Referred a Friend&#x27;, &#x27;Phone Service&#x27;, &#x27;Multiple Lines&#x27;, &#x27;Internet Service&#x27;, &#x27;Online Security&#x27;, &#x27;Online Backup&#x27;, &#x27;Device Protection Plan&#x27;, &#x27;Premium Tech Support&#x27;, &#x27;Streaming TV&#x27;, &#x27;Streaming Movies&#x27;, &#x27;Streaming Music&#x27;, &#x27;Unlimited Data&#x27;]</pre></div></div></div><div class=\"sk-serial\"><div class=\"sk-item\"><div class=\"sk-serial\"><div class=\"sk-item\"><div class=\"sk-estimator sk-toggleable\"><input class=\"sk-toggleable__control sk-hidden--visually\" id=\"sk-estimator-id-4\" type=\"checkbox\" ><label for=\"sk-estimator-id-4\" class=\"sk-toggleable__label sk-toggleable__label-arrow\">OrdinalEncoder</label><div class=\"sk-toggleable__content\"><pre>OrdinalEncoder(categories=[[&#x27;Yes&#x27;, &#x27;No&#x27;], [&#x27;Yes&#x27;, &#x27;No&#x27;], [&#x27;Yes&#x27;, &#x27;No&#x27;],\n",
       "                           [&#x27;Yes&#x27;, &#x27;No&#x27;], [&#x27;Yes&#x27;, &#x27;No&#x27;], [&#x27;Yes&#x27;, &#x27;No&#x27;],\n",
       "                           [&#x27;Yes&#x27;, &#x27;No&#x27;], [&#x27;Yes&#x27;, &#x27;No&#x27;], [&#x27;Yes&#x27;, &#x27;No&#x27;],\n",
       "                           [&#x27;Yes&#x27;, &#x27;No&#x27;], [&#x27;Yes&#x27;, &#x27;No&#x27;], [&#x27;Yes&#x27;, &#x27;No&#x27;]])</pre></div></div></div><div class=\"sk-item\"><div class=\"sk-estimator sk-toggleable\"><input class=\"sk-toggleable__control sk-hidden--visually\" id=\"sk-estimator-id-5\" type=\"checkbox\" ><label for=\"sk-estimator-id-5\" class=\"sk-toggleable__label sk-toggleable__label-arrow\">MinMaxScaler</label><div class=\"sk-toggleable__content\"><pre>MinMaxScaler()</pre></div></div></div></div></div></div></div></div><div class=\"sk-parallel-item\"><div class=\"sk-item\"><div class=\"sk-label-container\"><div class=\"sk-label sk-toggleable\"><input class=\"sk-toggleable__control sk-hidden--visually\" id=\"sk-estimator-id-6\" type=\"checkbox\" ><label for=\"sk-estimator-id-6\" class=\"sk-toggleable__label sk-toggleable__label-arrow\">nominal_pipeline</label><div class=\"sk-toggleable__content\"><pre>[&#x27;Gender&#x27;, &#x27;Under 30&#x27;, &#x27;Senior Citizen&#x27;, &#x27;Married&#x27;, &#x27;Dependents&#x27;, &#x27;Offer&#x27;, &#x27;Internet Type&#x27;, &#x27;Contract&#x27;, &#x27;Paperless Billing&#x27;, &#x27;Payment Method&#x27;]</pre></div></div></div><div class=\"sk-serial\"><div class=\"sk-item\"><div class=\"sk-serial\"><div class=\"sk-item\"><div class=\"sk-estimator sk-toggleable\"><input class=\"sk-toggleable__control sk-hidden--visually\" id=\"sk-estimator-id-7\" type=\"checkbox\" ><label for=\"sk-estimator-id-7\" class=\"sk-toggleable__label sk-toggleable__label-arrow\">OneHotEncoder</label><div class=\"sk-toggleable__content\"><pre>OneHotEncoder(drop=&#x27;first&#x27;)</pre></div></div></div></div></div></div></div></div><div class=\"sk-parallel-item\"><div class=\"sk-item\"><div class=\"sk-label-container\"><div class=\"sk-label sk-toggleable\"><input class=\"sk-toggleable__control sk-hidden--visually\" id=\"sk-estimator-id-8\" type=\"checkbox\" ><label for=\"sk-estimator-id-8\" class=\"sk-toggleable__label sk-toggleable__label-arrow\">numeric_pipeline</label><div class=\"sk-toggleable__content\"><pre>[&#x27;Age&#x27;, &#x27;Number of Dependents&#x27;, &#x27;Zip Code&#x27;, &#x27;Population&#x27;, &#x27;Number of Referrals&#x27;, &#x27;Tenure in Months&#x27;, &#x27;Avg Monthly Long Distance Charges&#x27;, &#x27;Avg Monthly GB Download&#x27;, &#x27;Monthly Charge&#x27;, &#x27;Total Charges&#x27;, &#x27;Total Refunds&#x27;, &#x27;Total Extra Data Charges&#x27;, &#x27;Total Long Distance Charges&#x27;, &#x27;Total Revenue&#x27;, &#x27;Satisfaction Score&#x27;]</pre></div></div></div><div class=\"sk-serial\"><div class=\"sk-item\"><div class=\"sk-serial\"><div class=\"sk-item\"><div class=\"sk-estimator sk-toggleable\"><input class=\"sk-toggleable__control sk-hidden--visually\" id=\"sk-estimator-id-9\" type=\"checkbox\" ><label for=\"sk-estimator-id-9\" class=\"sk-toggleable__label sk-toggleable__label-arrow\">PowerTransformer</label><div class=\"sk-toggleable__content\"><pre>PowerTransformer()</pre></div></div></div><div class=\"sk-item\"><div class=\"sk-estimator sk-toggleable\"><input class=\"sk-toggleable__control sk-hidden--visually\" id=\"sk-estimator-id-10\" type=\"checkbox\" ><label for=\"sk-estimator-id-10\" class=\"sk-toggleable__label sk-toggleable__label-arrow\">MinMaxScaler</label><div class=\"sk-toggleable__content\"><pre>MinMaxScaler()</pre></div></div></div></div></div></div></div></div></div></div><div class=\"sk-item\"><div class=\"sk-estimator sk-toggleable\"><input class=\"sk-toggleable__control sk-hidden--visually\" id=\"sk-estimator-id-11\" type=\"checkbox\" ><label for=\"sk-estimator-id-11\" class=\"sk-toggleable__label sk-toggleable__label-arrow\">CatBoostClassifier</label><div class=\"sk-toggleable__content\"><pre>&lt;catboost.core.CatBoostClassifier object at 0x14d149190&gt;</pre></div></div></div></div></div></div></div>"
      ],
      "text/plain": [
       "Pipeline(steps=[('columntransformer',\n",
       "                 ColumnTransformer(transformers=[('ordinal_pipeline',\n",
       "                                                  Pipeline(steps=[('ordinalencoder',\n",
       "                                                                   OrdinalEncoder(categories=[['Yes',\n",
       "                                                                                               'No'],\n",
       "                                                                                              ['Yes',\n",
       "                                                                                               'No'],\n",
       "                                                                                              ['Yes',\n",
       "                                                                                               'No'],\n",
       "                                                                                              ['Yes',\n",
       "                                                                                               'No'],\n",
       "                                                                                              ['Yes',\n",
       "                                                                                               'No'],\n",
       "                                                                                              ['Yes',\n",
       "                                                                                               'No'],\n",
       "                                                                                              ['Yes',\n",
       "                                                                                               'No'],\n",
       "                                                                                              ['Yes',\n",
       "                                                                                               'No'],\n",
       "                                                                                              ['Yes',\n",
       "                                                                                               'No'],\n",
       "                                                                                              ['Yes',\n",
       "                                                                                               'No'],\n",
       "                                                                                              ['Yes',\n",
       "                                                                                               'No'],\n",
       "                                                                                              ['Yes',\n",
       "                                                                                               'No']])),\n",
       "                                                                  ('minmaxscaler',\n",
       "                                                                   MinMaxScaler())]),\n",
       "                                                  ['Refer...\n",
       "                                                   'Number of Dependents',\n",
       "                                                   'Zip Code', 'Population',\n",
       "                                                   'Number of Referrals',\n",
       "                                                   'Tenure in Months',\n",
       "                                                   'Avg Monthly Long Distance '\n",
       "                                                   'Charges',\n",
       "                                                   'Avg Monthly GB Download',\n",
       "                                                   'Monthly Charge',\n",
       "                                                   'Total Charges',\n",
       "                                                   'Total Refunds',\n",
       "                                                   'Total Extra Data Charges',\n",
       "                                                   'Total Long Distance '\n",
       "                                                   'Charges',\n",
       "                                                   'Total Revenue',\n",
       "                                                   'Satisfaction Score'])])),\n",
       "                ('catboostclassifier',\n",
       "                 <catboost.core.CatBoostClassifier object at 0x14d149190>)])"
      ]
     },
     "execution_count": 156,
     "metadata": {},
     "output_type": "execute_result"
    }
   ],
   "source": [
    "catBoost_model = make_pipeline(preprocessing_pipeline,CatBoostClassifier(verbose=0, random_seed=201))\n",
    "catBoost_model.fit(X_train,y_train)"
   ]
  },
  {
   "cell_type": "code",
   "execution_count": 163,
   "metadata": {},
   "outputs": [],
   "source": [
    "results_dict = {\n",
    "    'actual' : y_test,\n",
    "    'pred' : catBoost_model.predict(X_test),\n",
    "    'predicted_proba': catBoost_model.predict_proba(X_test)[:,1] #these probabilities are already normalized, this scoring method can be used for multiclass classifiers to evaluate proba for each class\n",
    "}\n",
    "\n",
    "results = pd.DataFrame(results_dict)"
   ]
  },
  {
   "cell_type": "code",
   "execution_count": 169,
   "metadata": {},
   "outputs": [
    {
     "data": {
      "image/png": "[encoded data removed]",
      "text/plain": [
       "<Figure size 600x400 with 1 Axes>"
      ]
     },
     "metadata": {},
     "output_type": "display_data"
    }
   ],
   "source": [
    "import seaborn as sns\n",
    "import matplotlib.pyplot as plt\n",
    "from sklearn.metrics import confusion_matrix\n",
    "\n",
    "# Assuming y_test are the true labels and y_pred are the predicted labels\n",
    "# Calculate confusion matrix\n",
    "cm = confusion_matrix(y_test, catBoost_model.predict(X_test))\n",
    "\n",
    "# Visualize confusion matrix\n",
    "plt.figure(figsize=(6, 4))\n",
    "sns.heatmap(cm, annot=True, fmt='d', cmap='Blues', cbar=False)\n",
    "plt.xlabel('Predicted labels')\n",
    "plt.ylabel('True labels')\n",
    "plt.title('Confusion Matrix')\n",
    "plt.show()"
   ]
  },
  {
   "cell_type": "code",
   "execution_count": 186,
   "metadata": {},
   "outputs": [],
   "source": [
    "from sklearn.metrics import classification_report, accuracy_score\n",
    "\n",
    "model_report = classification_report(y_test, catBoost_model.predict(X_test))"
   ]
  },
  {
   "cell_type": "code",
   "execution_count": 187,
   "metadata": {},
   "outputs": [
    {
     "name": "stdout",
     "output_type": "stream",
     "text": [
      "              precision    recall  f1-score   support\n",
      "\n",
      "           0       0.97      0.98      0.98      1035\n",
      "           1       0.96      0.91      0.93       374\n",
      "\n",
      "    accuracy                           0.97      1409\n",
      "   macro avg       0.96      0.95      0.96      1409\n",
      "weighted avg       0.97      0.97      0.97      1409\n",
      "\n"
     ]
    }
   ],
   "source": [
    "print(model_report)"
   ]
  },
  {
   "cell_type": "markdown",
   "metadata": {},
   "source": [
    "- Precision: The ratio of true positive predictions to the total number of positive predictions. It measures the accuracy of positive predictions.\n",
    "- Recall: The ratio of true positive predictions to the total number of actual positives. It measures the model's ability to find all positive instances.\n",
    "- F1-score: The harmonic mean of precision and recall. It provides a balance between precision and recall.\n",
    "- Support: The number of actual occurrences of the class in the test set.\n",
    "- Accuracy: The ratio of correctly predicted instances to the total number of instances.\n",
    "- Macro avg: The average of precision, recall, and F1-score across all classes.\n",
    "- Weighted avg: The weighted average of precision, recall, and F1-score, weighted by the number of instances of each class."
   ]
  },
  {
   "cell_type": "markdown",
   "metadata": {},
   "source": []
  },
  {
   "cell_type": "code",
   "execution_count": 179,
   "metadata": {},
   "outputs": [
    {
     "data": {
      "image/png": "[encoded data removed]",
      "text/plain": [
       "<Figure size 640x480 with 1 Axes>"
      ]
     },
     "metadata": {},
     "output_type": "display_data"
    }
   ],
   "source": [
    "from sklearn.metrics import roc_curve, auc\n",
    "\n",
    "# Assuming y_test are the true labels and y_score are the predicted probabilities\n",
    "# Calculate ROC curve\n",
    "fpr, tpr, thresholds = roc_curve(y_test, catBoost_model.predict(X_test))\n",
    "\n",
    "# Calculate area under the curve (AUC)\n",
    "roc_auc = auc(fpr, tpr)\n",
    "\n",
    "# Plot ROC curve\n",
    "plt.figure()\n",
    "plt.plot(fpr, tpr, color='blue', lw=2, label='ROC curve (AUC = %0.2f)' % roc_auc)\n",
    "plt.plot([0, 1], [0, 1], color='gray', linestyle='--')\n",
    "plt.xlim([0.0, 1.0])\n",
    "plt.ylim([0.0, 1.05])\n",
    "plt.xlabel('False Positive Rate')\n",
    "plt.ylabel('True Positive Rate')\n",
    "plt.title('Receiver Operating Characteristic (ROC) Curve')\n",
    "plt.legend(loc='lower right')\n",
    "plt.show()\n"
   ]
  },
  {
   "cell_type": "code",
   "execution_count": 231,
   "metadata": {},
   "outputs": [
    {
     "data": {
      "image/png": "[encoded data removed]",
      "text/plain": [
       "<Figure size 1200x500 with 2 Axes>"
      ]
     },
     "metadata": {},
     "output_type": "display_data"
    }
   ],
   "source": [
    "# Get predicted probabilities on the test set\n",
    "y_prob = catBoost_model.predict_proba(X_test)[:, 1]\n",
    "\n",
    "# Calculate gain and lift values\n",
    "def calculate_gain_lift(y_test, y_prob, num_buckets=10):\n",
    "    order = np.argsort(y_prob)[::-1]\n",
    "    y_test_sorted = y_test[order]\n",
    "    y_prob_sorted = y_prob[order]\n",
    "    total_positives = np.sum(y_test)\n",
    "    \n",
    "    gains = []\n",
    "    lifts = []\n",
    "    for i in range(1, num_buckets + 1):\n",
    "        bucket_size = int(len(y_prob) * i / num_buckets)\n",
    "        bucket_true = y_test_sorted[:bucket_size]\n",
    "        bucket_positives = np.sum(bucket_true)\n",
    "        gains.append(bucket_positives / total_positives)\n",
    "        lifts.append(bucket_positives / (total_positives * (bucket_size / len(y_prob))))\n",
    "        \n",
    "    return gains, lifts\n",
    "\n",
    "gains, lifts = calculate_gain_lift(np.array(y_test), y_prob)\n",
    "\n",
    "# Plot the gain and lift charts\n",
    "num_instances = range(1, len(gains) + 1)\n",
    "\n",
    "plt.figure(figsize=(12, 5))\n",
    "\n",
    "# Gain Chart\n",
    "plt.subplot(1, 2, 1)\n",
    "plt.plot(num_instances, gains, marker='o')\n",
    "plt.title('Gain Chart')\n",
    "plt.xlabel('Number of Instances')\n",
    "plt.ylabel('Cumulative Gain')\n",
    "\n",
    "# Lift Chart\n",
    "plt.subplot(1, 2, 2)\n",
    "plt.plot(num_instances, lifts, marker='o')\n",
    "plt.title('Lift Chart')\n",
    "plt.xlabel('Number of Instances')\n",
    "plt.ylabel('Lift')\n",
    "\n",
    "plt.tight_layout()\n",
    "plt.show()"
   ]
  },
  {
   "cell_type": "code",
   "execution_count": 229,
   "metadata": {},
   "outputs": [
    {
     "data": {
      "text/plain": [
       "array([1, 0, 1, ..., 1, 1, 0])"
      ]
     },
     "execution_count": 229,
     "metadata": {},
     "output_type": "execute_result"
    }
   ],
   "source": [
    "np.array(y_test)"
   ]
  },
  {
   "cell_type": "markdown",
   "metadata": {},
   "source": []
  },
  {
   "cell_type": "code",
   "execution_count": 238,
   "metadata": {},
   "outputs": [],
   "source": [
    "# Business savings\n",
    "\n",
    "churn_prevention_campaign_success_rate = 0.5\n",
    "average_revenue = df['Total Revenue'].sum()/len(df)\n",
    "churn_prediction_accuracy = accuracy_score(y_test, catBoost_model.predict(X_test))\n",
    "event_rate = len(df[df['Churn Label'] == 'Yes'])/len(df)\n",
    "\n",
    "total_customers = len(df)\n",
    "\n",
    "average_savings_after_model = churn_prevention_campaign_success_rate * churn_prediction_accuracy * event_rate * total_customers * average_revenue\n",
    "\n",
    "# print(\"Considering a total customer base of {:,} in california, a retention campaign success rate of {}% and an average revenue of ${:,}, Total savings achieved after deplopyment of this model for driving customer retention campaign will be for ${:,}M adding to a total revenue of ${:,}M.\"\n",
    "#       .format(\n",
    "#     total_customers,\n",
    "#     round(churn_prevention_campaign_success_rate*100),\n",
    "#     round(average_revenue),\n",
    "#     round(average_savings_after_model/1000000,2),\n",
    "#     round(df['Total Revenue'].sum()/1000000,2)\n",
    "# ))"
   ]
  },
  {
   "cell_type": "markdown",
   "metadata": {},
   "source": [
    "#### Considering a total customer base of 7,043 in california, a retention campaign success rate of 50% and an average revenue of $3,034, Total savings achieved after deplopyment of this model for driving customer retention campaign will be for $2.74M adding to a total revenue of $21.37M.\n"
   ]
  },
  {
   "cell_type": "code",
   "execution_count": 240,
   "metadata": {},
   "outputs": [
    {
     "name": "stdout",
     "output_type": "stream",
     "text": [
      "successfully exported model. \n",
      " Model details: Pipeline(steps=[('columntransformer',\n",
      "                 ColumnTransformer(transformers=[('ordinal_pipeline',\n",
      "                                                  Pipeline(steps=[('ordinalencoder',\n",
      "                                                                   OrdinalEncoder(categories=[['Yes',\n",
      "                                                                                               'No'],\n",
      "                                                                                              ['Yes',\n",
      "                                                                                               'No'],\n",
      "                                                                                              ['Yes',\n",
      "                                                                                               'No'],\n",
      "                                                                                              ['Yes',\n",
      "                                                                                               'No'],\n",
      "                                                                                              ['Yes',\n",
      "                                                                                               'No'],\n",
      "                                                                                              ['Yes',\n",
      "                                                                                               'No'],\n",
      "                                                                                              ['Yes',\n",
      "                                                                                               'No'],\n",
      "                                                                                              ['Yes',\n",
      "                                                                                               'No'],\n",
      "                                                                                              ['Yes',\n",
      "                                                                                               'No'],\n",
      "                                                                                              ['Yes',\n",
      "                                                                                               'No'],\n",
      "                                                                                              ['Yes',\n",
      "                                                                                               'No'],\n",
      "                                                                                              ['Yes',\n",
      "                                                                                               'No']])),\n",
      "                                                                  ('minmaxscaler',\n",
      "                                                                   MinMaxScaler())]),\n",
      "                                                  ['Refer...\n",
      "                                                   'Number of Dependents',\n",
      "                                                   'Zip Code', 'Population',\n",
      "                                                   'Number of Referrals',\n",
      "                                                   'Tenure in Months',\n",
      "                                                   'Avg Monthly Long Distance '\n",
      "                                                   'Charges',\n",
      "                                                   'Avg Monthly GB Download',\n",
      "                                                   'Monthly Charge',\n",
      "                                                   'Total Charges',\n",
      "                                                   'Total Refunds',\n",
      "                                                   'Total Extra Data Charges',\n",
      "                                                   'Total Long Distance '\n",
      "                                                   'Charges',\n",
      "                                                   'Total Revenue',\n",
      "                                                   'Satisfaction Score'])])),\n",
      "                ('catboostclassifier',\n",
      "                 <catboost.core.CatBoostClassifier object at 0x14d149190>)])\n"
     ]
    }
   ],
   "source": [
    "# Exporting the model as pkl file\n",
    "\n",
    "import pickle\n",
    "\n",
    "with open('.trained_catBoost_model.pkl', 'wb') as f:\n",
    "    pickle.dump(catBoost_model,f)\n",
    "\n",
    "print(\"successfully exported model. \\n Model details:\", catBoost_model)\n",
    "\n"
   ]
  },
  {
   "cell_type": "markdown",
   "metadata": {},
   "source": [
    "### Next Steps\n",
    "\n",
    "#### Todo: SHAP Summary\n",
    "\n",
    "SHAP (SHapley Additive exPlanations) is a powerful tool for interpreting the output of machine learning models by explaining the contribution of each feature to the model's output\n",
    "\n",
    "- The summary plot typically displays a horizontal bar chart where each feature is represented by a bar. The length of the bar indicates the magnitude of the feature's impact on the model's output, and the color indicates whether the feature's value is high (red) or low (blue). This visualization helps you understand which features are most important for the model's predictions and how they influence those predictions.\n",
    "\n",
    "Others:\n",
    "- Hyperparameter Tuning can be done to further improve accuracy\n",
    "- Productionize the model using pickle and flaskAPI"
   ]
  },
  {
   "cell_type": "markdown",
   "metadata": {},
   "source": []
  }
 ],
 "metadata": {
  "kernelspec": {
   "display_name": "envNew",
   "language": "python",
   "name": "python3"
  },
  "language_info": {
   "codemirror_mode": {
    "name": "ipython",
    "version": 3
   },
   "file_extension": ".py",
   "mimetype": "text/x-python",
   "name": "python",
   "nbconvert_exporter": "python",
   "pygments_lexer": "ipython3",
   "version": "3.8.19"
  }
 },
 "nbformat": 4,
 "nbformat_minor": 2
}
